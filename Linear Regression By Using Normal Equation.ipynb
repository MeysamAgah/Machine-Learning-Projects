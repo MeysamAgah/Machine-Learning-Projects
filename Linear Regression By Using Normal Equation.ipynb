{
 "cells": [
  {
   "cell_type": "markdown",
   "id": "6292fd1e",
   "metadata": {},
   "source": [
    "# Implementation of Linear Regression By Using Normal Equation"
   ]
  },
  {
   "cell_type": "markdown",
   "id": "c852fa6d",
   "metadata": {},
   "source": [
    "At this step I add necessary tools to our notebook."
   ]
  },
  {
   "cell_type": "code",
   "execution_count": 1,
   "id": "b263a54d",
   "metadata": {},
   "outputs": [],
   "source": [
    "#for numerical and matrix things\n",
    "import numpy as np\n",
    "\n",
    "#for things like getting sum and mean\n",
    "import pandas as pd\n",
    "\n",
    "#for ploting figures\n",
    "%matplotlib inline\n",
    "import matplotlib.pyplot as plt\n",
    "\n",
    "#loading our dataset\n",
    "from sklearn.datasets import load_diabetes\n"
   ]
  },
  {
   "cell_type": "markdown",
   "id": "f3c9a08b",
   "metadata": {},
   "source": [
    "At this step I define X , Y for dataset to make a linear Regression implement."
   ]
  },
  {
   "cell_type": "code",
   "execution_count": 2,
   "id": "e30a9478",
   "metadata": {},
   "outputs": [
    {
     "name": "stdout",
     "output_type": "stream",
     "text": [
      "(442, 10)\n",
      "(442,)\n"
     ]
    }
   ],
   "source": [
    "X_diabetes, y_diabetes = load_diabetes(return_X_y=True)\n",
    "\n",
    "#to make it easier for later\n",
    "X = X_diabetes\n",
    "Y= y_diabetes\n",
    "\n",
    "#let's take a look at our X, Y data dimension\n",
    "print(X.shape)\n",
    "print(Y.shape)"
   ]
  },
  {
   "cell_type": "markdown",
   "id": "4f270c9f",
   "metadata": {},
   "source": [
    "At this step I add a bias to X <br>\n",
    "that's because once we multiplie X and $\\beta$ to get y, we need a bias in our equation."
   ]
  },
  {
   "cell_type": "code",
   "execution_count": 3,
   "id": "828d5c21",
   "metadata": {},
   "outputs": [],
   "source": [
    "#Adding a bias to X\n",
    "X_b = np.c_[np.ones([len(X), 1]), X]"
   ]
  },
  {
   "cell_type": "markdown",
   "id": "66aefe20",
   "metadata": {},
   "source": [
    "At this step we split our data to training and test with ratio of 70% and 30% for each."
   ]
  },
  {
   "cell_type": "code",
   "execution_count": 4,
   "id": "59895c77",
   "metadata": {},
   "outputs": [],
   "source": [
    "#in order to have a fix output around all runs\n",
    "np.random.seed(2042)\n",
    "\n",
    "#test ratio is 30%\n",
    "test_ratio = 0.3\n",
    "total_size = len(X_b)\n",
    "\n",
    "test_size = int(test_ratio * total_size)\n",
    "train_size = total_size - test_size\n",
    "\n",
    "#in order to have randon Train and Test\n",
    "rnd_indices = np.random.permutation(total_size)\n",
    "\n",
    "X_train = X_b[rnd_indices[:train_size]]\n",
    "X_test = X_b[rnd_indices[train_size:]]\n",
    "Y_train = Y[rnd_indices[:train_size]]\n",
    "Y_test = Y[rnd_indices[train_size:]]"
   ]
  },
  {
   "cell_type": "markdown",
   "id": "01280b63",
   "metadata": {},
   "source": [
    "Now it's time to implement equation : <br>\n",
    "$\\hat{\\theta} = (X^{T}.X)^{-1}.X^{T}.y$"
   ]
  },
  {
   "cell_type": "code",
   "execution_count": 5,
   "id": "21abbfe0",
   "metadata": {},
   "outputs": [
    {
     "name": "stdout",
     "output_type": "stream",
     "text": [
      "(11,)\n",
      "[ 153.80297286   19.70314614 -175.49893906  610.67778789  287.51155318\n",
      " -385.48553379  179.0466207   -47.59277311  107.81873576  516.48046603\n",
      "   74.46240035]\n"
     ]
    }
   ],
   "source": [
    "#writing normal equation\n",
    "Theta_hat = np.linalg.inv(X_train.T.dot(X_train)).dot(X_train.T).dot(Y_train)\n",
    "print(Theta_hat.shape)\n",
    "print(Theta_hat)"
   ]
  },
  {
   "cell_type": "markdown",
   "id": "a885a059",
   "metadata": {},
   "source": [
    "Now we calculate $\\hat{Y}$ according to this equation : <br>\n",
    "$\\hat{Y} = X.\\hat{\\theta}$"
   ]
  },
  {
   "cell_type": "code",
   "execution_count": 6,
   "id": "c3fd8be4",
   "metadata": {},
   "outputs": [
    {
     "data": {
      "text/plain": [
       "(132,)"
      ]
     },
     "execution_count": 6,
     "metadata": {},
     "output_type": "execute_result"
    }
   ],
   "source": [
    "Y_hat = X_test.dot(Theta_hat)\n",
    "Y_hat.shape"
   ]
  },
  {
   "cell_type": "markdown",
   "id": "c94aaecb",
   "metadata": {},
   "source": [
    "let's take a quick look at how much Y and $\\hat{Y}$ different."
   ]
  },
  {
   "cell_type": "code",
   "execution_count": 7,
   "id": "ad273332",
   "metadata": {},
   "outputs": [
    {
     "data": {
      "text/plain": [
       "[<matplotlib.lines.Line2D at 0x1f6cb306fa0>]"
      ]
     },
     "execution_count": 7,
     "metadata": {},
     "output_type": "execute_result"
    },
    {
     "data": {
      "image/png": "[encoded data removed]",
      "text/plain": [
       "<Figure size 432x288 with 1 Axes>"
      ]
     },
     "metadata": {
      "needs_background": "light"
     },
     "output_type": "display_data"
    }
   ],
   "source": [
    "plt.plot(Y_test,Y_hat,'o')"
   ]
  },
  {
   "cell_type": "markdown",
   "id": "95be4c82",
   "metadata": {},
   "source": [
    "calculating RSS according to this equation :<br>\n",
    "$RSS = \\Sigma(Y^{2} - \\hat{Y}^{2})$"
   ]
  },
  {
   "cell_type": "code",
   "execution_count": 8,
   "id": "6275a164",
   "metadata": {},
   "outputs": [
    {
     "data": {
      "text/plain": [
       "225732.1684990271"
      ]
     },
     "execution_count": 8,
     "metadata": {},
     "output_type": "execute_result"
    }
   ],
   "source": [
    "RSSs = Y_test**2 - Y_hat**2\n",
    "RSS = RSSs.sum()\n",
    "RSS"
   ]
  },
  {
   "cell_type": "markdown",
   "id": "7decbe9d",
   "metadata": {},
   "source": [
    "Calculating TSS which is Variance of Y"
   ]
  },
  {
   "cell_type": "code",
   "execution_count": 9,
   "id": "ecab1b9a",
   "metadata": {},
   "outputs": [
    {
     "data": {
      "text/plain": [
       "443961.19553244184"
      ]
     },
     "execution_count": 9,
     "metadata": {},
     "output_type": "execute_result"
    }
   ],
   "source": [
    "TSSs = Y_test**2. - Y.mean()**2\n",
    "TSS = TSSs.sum()\n",
    "TSS\n"
   ]
  },
  {
   "cell_type": "markdown",
   "id": "b51cede7",
   "metadata": {},
   "source": [
    "Calculating $R^{2}$ according to this equation : <br>\n",
    "<br>\n",
    "$R^{2} = \\frac{(TSS - RSS)}{TSS}$"
   ]
  },
  {
   "cell_type": "code",
   "execution_count": 10,
   "id": "47c2032f",
   "metadata": {},
   "outputs": [
    {
     "data": {
      "text/plain": [
       "0.4915497778396895"
      ]
     },
     "execution_count": 10,
     "metadata": {},
     "output_type": "execute_result"
    }
   ],
   "source": [
    "R_Squared = (TSS - RSS)/TSS\n",
    "R_Squared"
   ]
  },
  {
   "cell_type": "markdown",
   "id": "c1181a13",
   "metadata": {},
   "source": [
    "*Thanks for reading this*"
   ]
  }
 ],
 "metadata": {
  "kernelspec": {
   "display_name": "Python 3 (ipykernel)",
   "language": "python",
   "name": "python3"
  },
  "language_info": {
   "codemirror_mode": {
    "name": "ipython",
    "version": 3
   },
   "file_extension": ".py",
   "mimetype": "text/x-python",
   "name": "python",
   "nbconvert_exporter": "python",
   "pygments_lexer": "ipython3",
   "version": "3.9.12"
  }
 },
 "nbformat": 4,
 "nbformat_minor": 5
}
