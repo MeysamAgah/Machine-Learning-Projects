{
 "cells": [
  {
   "cell_type": "markdown",
   "metadata": {
    "id": "ZQlDkuNuRs1r"
   },
   "source": [
    "# a continue to main note book"
   ]
  },
  {
   "cell_type": "code",
   "execution_count": 1,
   "metadata": {
    "colab": {
     "base_uri": "https://localhost:8080/"
    },
    "id": "aef4U_ty7ZaV",
    "outputId": "b20091da-0bac-4353-9bfd-ec75f48eddc2"
   },
   "outputs": [
    {
     "name": "stdout",
     "output_type": "stream",
     "text": [
      "Collecting surprise\n",
      "  Downloading surprise-0.1-py2.py3-none-any.whl (1.8 kB)\n",
      "Collecting scikit-surprise (from surprise)\n",
      "  Downloading scikit-surprise-1.1.3.tar.gz (771 kB)\n",
      "\u001b[2K     \u001b[90m━━━━━━━━━━━━━━━━━━━━━━━━━━━━━━━━━━━━━━\u001b[0m \u001b[32m772.0/772.0 kB\u001b[0m \u001b[31m21.4 MB/s\u001b[0m eta \u001b[36m0:00:00\u001b[0m\n",
      "\u001b[?25h  Preparing metadata (setup.py) ... \u001b[?25l\u001b[?25hdone\n",
      "Requirement already satisfied: joblib>=1.0.0 in /usr/local/lib/python3.10/dist-packages (from scikit-surprise->surprise) (1.2.0)\n",
      "Requirement already satisfied: numpy>=1.17.3 in /usr/local/lib/python3.10/dist-packages (from scikit-surprise->surprise) (1.22.4)\n",
      "Requirement already satisfied: scipy>=1.3.2 in /usr/local/lib/python3.10/dist-packages (from scikit-surprise->surprise) (1.10.1)\n",
      "Building wheels for collected packages: scikit-surprise\n",
      "  Building wheel for scikit-surprise (setup.py) ... \u001b[?25l\u001b[?25hdone\n",
      "  Created wheel for scikit-surprise: filename=scikit_surprise-1.1.3-cp310-cp310-linux_x86_64.whl size=3096341 sha256=0e2e860dac3ee5c977d6fe53909d46dff88a08e2d94662bff7ad8cd9654afe34\n",
      "  Stored in directory: /root/.cache/pip/wheels/a5/ca/a8/4e28def53797fdc4363ca4af740db15a9c2f1595ebc51fb445\n",
      "Successfully built scikit-surprise\n",
      "Installing collected packages: scikit-surprise, surprise\n",
      "Successfully installed scikit-surprise-1.1.3 surprise-0.1\n"
     ]
    }
   ],
   "source": [
    "!pip install surprise"
   ]
  },
  {
   "cell_type": "code",
   "execution_count": 2,
   "metadata": {
    "id": "-U7QkOCH7XX2"
   },
   "outputs": [],
   "source": [
    "import pandas as pd\n",
    "import numpy as np\n",
    "import matplotlib.pyplot as plt\n",
    "import seaborn as sns\n",
    "\n",
    "\n",
    "from collections import defaultdict #data colector\n",
    "\n",
    "#Surprise: https://surprise.readthedocs.io/en/stable/\n",
    "import surprise\n",
    "\n",
    "from surprise.reader import Reader\n",
    "from surprise import Dataset\n",
    "from surprise.model_selection import GridSearchCV\n",
    "\n",
    "  ##CrossValidation\n",
    "from surprise.model_selection import cross_validate\n",
    "\n",
    "\n",
    "  ##Matrix Factorization Algorithms\n",
    "from surprise import SVD\n",
    "from surprise import NMF\n",
    "\n",
    "np.random.seed(42) # replicating results"
   ]
  },
  {
   "cell_type": "code",
   "execution_count": 3,
   "metadata": {
    "id": "I_sy9M01wdTB"
   },
   "outputs": [],
   "source": [
    "import numpy as np #to help us use numerical functions\n",
    "import pandas as pd #to help us use functions for dealing with dataframe\n",
    "import os #provides functions for creating and removing a directory"
   ]
  },
  {
   "cell_type": "markdown",
   "metadata": {
    "id": "laevycQmxPAM"
   },
   "source": [
    "In order to avoid uploading manually by running below codes we load data from kaggle by using API command"
   ]
  },
  {
   "cell_type": "code",
   "execution_count": 4,
   "metadata": {
    "colab": {
     "base_uri": "https://localhost:8080/"
    },
    "id": "63yDaV9e0bZy",
    "outputId": "309a30c4-ac3b-4987-e21c-053a811c9897"
   },
   "outputs": [
    {
     "name": "stdout",
     "output_type": "stream",
     "text": [
      "Requirement already satisfied: kaggle in /usr/local/lib/python3.10/dist-packages (1.5.13)\n",
      "Requirement already satisfied: six>=1.10 in /usr/local/lib/python3.10/dist-packages (from kaggle) (1.16.0)\n",
      "Requirement already satisfied: certifi in /usr/local/lib/python3.10/dist-packages (from kaggle) (2023.5.7)\n",
      "Requirement already satisfied: python-dateutil in /usr/local/lib/python3.10/dist-packages (from kaggle) (2.8.2)\n",
      "Requirement already satisfied: requests in /usr/local/lib/python3.10/dist-packages (from kaggle) (2.27.1)\n",
      "Requirement already satisfied: tqdm in /usr/local/lib/python3.10/dist-packages (from kaggle) (4.65.0)\n",
      "Requirement already satisfied: python-slugify in /usr/local/lib/python3.10/dist-packages (from kaggle) (8.0.1)\n",
      "Requirement already satisfied: urllib3 in /usr/local/lib/python3.10/dist-packages (from kaggle) (1.26.16)\n",
      "Requirement already satisfied: text-unidecode>=1.3 in /usr/local/lib/python3.10/dist-packages (from python-slugify->kaggle) (1.3)\n",
      "Requirement already satisfied: charset-normalizer~=2.0.0 in /usr/local/lib/python3.10/dist-packages (from requests->kaggle) (2.0.12)\n",
      "Requirement already satisfied: idna<4,>=2.5 in /usr/local/lib/python3.10/dist-packages (from requests->kaggle) (3.4)\n"
     ]
    }
   ],
   "source": [
    "# install kaggle library\n",
    "! pip install kaggle"
   ]
  },
  {
   "cell_type": "code",
   "execution_count": 5,
   "metadata": {
    "id": "Y4mnN33d0bkk"
   },
   "outputs": [],
   "source": [
    "#creating a directory named kaggle\n",
    "! mkdir ~/.kaggle"
   ]
  },
  {
   "cell_type": "code",
   "execution_count": 6,
   "metadata": {
    "id": "IPPcumE40bpr"
   },
   "outputs": [],
   "source": [
    "# copying kaggle.json to new directory\n",
    "! cp kaggle.json ~/.kaggle/"
   ]
  },
  {
   "cell_type": "code",
   "execution_count": 7,
   "metadata": {
    "id": "1ggpNt8t0btc"
   },
   "outputs": [],
   "source": [
    "! chmod 600 ~/.kaggle/kaggle.json"
   ]
  },
  {
   "cell_type": "code",
   "execution_count": 8,
   "metadata": {
    "colab": {
     "base_uri": "https://localhost:8080/"
    },
    "id": "raD6Zh5-0zfM",
    "outputId": "40556d54-a726-4f1b-f102-c4f1eb34099e"
   },
   "outputs": [
    {
     "name": "stdout",
     "output_type": "stream",
     "text": [
      "Downloading the-movies-dataset.zip to /content\n",
      "100% 227M/228M [00:01<00:00, 163MB/s]\n",
      "100% 228M/228M [00:01<00:00, 140MB/s]\n"
     ]
    }
   ],
   "source": [
    "# downloading dataset\n",
    "!kaggle datasets download -d rounakbanik/the-movies-dataset"
   ]
  },
  {
   "cell_type": "code",
   "execution_count": 9,
   "metadata": {
    "id": "vhkYJTzE1Ep_"
   },
   "outputs": [],
   "source": [
    "#creating a new directory in order to unzip dataset overthere\n",
    "!mkdir the-movies-dataset"
   ]
  },
  {
   "cell_type": "code",
   "execution_count": 10,
   "metadata": {
    "colab": {
     "base_uri": "https://localhost:8080/"
    },
    "id": "n0DpFOft1ExK",
    "outputId": "eab48c41-1a54-4952-99e7-87d8048da098"
   },
   "outputs": [
    {
     "name": "stdout",
     "output_type": "stream",
     "text": [
      "Archive:  the-movies-dataset.zip\n",
      "  inflating: /content/the-movies-dataset/credits.csv  \n",
      "  inflating: /content/the-movies-dataset/keywords.csv  \n",
      "  inflating: /content/the-movies-dataset/links.csv  \n",
      "  inflating: /content/the-movies-dataset/links_small.csv  \n",
      "  inflating: /content/the-movies-dataset/movies_metadata.csv  \n",
      "  inflating: /content/the-movies-dataset/ratings.csv  \n",
      "  inflating: /content/the-movies-dataset/ratings_small.csv  \n"
     ]
    }
   ],
   "source": [
    "!unzip 'the-movies-dataset.zip' -d /content/the-movies-dataset"
   ]
  },
  {
   "cell_type": "code",
   "execution_count": 11,
   "metadata": {
    "id": "JFt-YSIRLRYr"
   },
   "outputs": [],
   "source": [
    "from surprise import Dataset, Reader\n",
    "\n",
    "from surprise.prediction_algorithms.matrix_factorization import SVD\n",
    "\n",
    "from surprise import accuracy"
   ]
  },
  {
   "cell_type": "code",
   "execution_count": 12,
   "metadata": {
    "id": "lc7Y1F5MIDW8"
   },
   "outputs": [],
   "source": [
    "movies_filename = pd.read_csv('/content/the-movies-dataset/movies_metadata.csv', low_memory = False)\n",
    "ratings_filename = pd.read_csv('/content/the-movies-dataset/ratings.csv', low_memory = False)"
   ]
  },
  {
   "cell_type": "code",
   "execution_count": 13,
   "metadata": {
    "id": "y9sNjn6HLPpP"
   },
   "outputs": [],
   "source": [
    "ratings = ratings_filename\n",
    "movie_md = movies_filename"
   ]
  },
  {
   "cell_type": "code",
   "execution_count": 14,
   "metadata": {
    "colab": {
     "base_uri": "https://localhost:8080/"
    },
    "id": "u4EnXvWZRT2Z",
    "outputId": "993d8ce3-9ebc-4b15-dad2-27523a3d20b0"
   },
   "outputs": [
    {
     "data": {
      "text/plain": [
       "(1000000, 4)"
      ]
     },
     "execution_count": 14,
     "metadata": {},
     "output_type": "execute_result"
    }
   ],
   "source": [
    "# movie dataframe with votes more than 100\n",
    "movie_md = movie_md[movie_md['vote_count']>100]\n",
    "\n",
    "# removing user with below 10 votes\n",
    "ratings = ratings.groupby(\"userId\").filter(lambda x: x['userId'].count() >= 10)\n",
    "\n",
    "# IDs of movies with count more than 100\n",
    "movie_ids = [int(x) for x in movie_md['id'].values]\n",
    "\n",
    "# Select ratings of movies with more than 100 counts\n",
    "ratings = ratings[ratings['movieId'].isin(movie_ids)]\n",
    "\n",
    "#holding only 1 millions of ratings\n",
    "ratings = ratings[:1000000]\n",
    "\n",
    "# Reset Index\n",
    "ratings.reset_index(inplace=True, drop=True)\n",
    "\n",
    "# checking new ratings data shape\n",
    "ratings.shape"
   ]
  },
  {
   "cell_type": "code",
   "execution_count": 15,
   "metadata": {
    "colab": {
     "base_uri": "https://localhost:8080/"
    },
    "id": "1CfUyJ7yReQe",
    "outputId": "cfee878a-a4d7-41bf-fb01-7eeb69d550e5"
   },
   "outputs": [
    {
     "data": {
      "text/plain": [
       "(6020, 24)"
      ]
     },
     "execution_count": 15,
     "metadata": {},
     "output_type": "execute_result"
    }
   ],
   "source": [
    "movie_md.shape\n"
   ]
  },
  {
   "cell_type": "markdown",
   "metadata": {
    "id": "CsPGLklHR4Pv"
   },
   "source": [
    "Don't need to do anything else we already did all necessary<br>\n",
    "but there is point and that's svd based recommender only used when we have a list of movies"
   ]
  },
  {
   "cell_type": "code",
   "execution_count": 16,
   "metadata": {
    "colab": {
     "base_uri": "https://localhost:8080/",
     "height": 81
    },
    "id": "brHM2sbXRhjx",
    "outputId": "3621d7f0-c52d-40d2-83c6-6cbe44588a6a"
   },
   "outputs": [
    {
     "data": {
      "text/html": [
       "\n",
       "  <div id=\"df-316d3761-0d8d-40b4-965f-030867783313\">\n",
       "    <div class=\"colab-df-container\">\n",
       "      <div>\n",
       "<style scoped>\n",
       "    .dataframe tbody tr th:only-of-type {\n",
       "        vertical-align: middle;\n",
       "    }\n",
       "\n",
       "    .dataframe tbody tr th {\n",
       "        vertical-align: top;\n",
       "    }\n",
       "\n",
       "    .dataframe thead th {\n",
       "        text-align: right;\n",
       "    }\n",
       "</style>\n",
       "<table border=\"1\" class=\"dataframe\">\n",
       "  <thead>\n",
       "    <tr style=\"text-align: right;\">\n",
       "      <th></th>\n",
       "      <th>userId</th>\n",
       "      <th>movieId</th>\n",
       "      <th>rating</th>\n",
       "      <th>timestamp</th>\n",
       "    </tr>\n",
       "  </thead>\n",
       "  <tbody>\n",
       "    <tr>\n",
       "      <th>0</th>\n",
       "      <td>1</td>\n",
       "      <td>110</td>\n",
       "      <td>1.0</td>\n",
       "      <td>1425941529</td>\n",
       "    </tr>\n",
       "  </tbody>\n",
       "</table>\n",
       "</div>\n",
       "      <button class=\"colab-df-convert\" onclick=\"convertToInteractive('df-316d3761-0d8d-40b4-965f-030867783313')\"\n",
       "              title=\"Convert this dataframe to an interactive table.\"\n",
       "              style=\"display:none;\">\n",
       "        \n",
       "  <svg xmlns=\"http://www.w3.org/2000/svg\" height=\"24px\"viewBox=\"0 0 24 24\"\n",
       "       width=\"24px\">\n",
       "    <path d=\"M0 0h24v24H0V0z\" fill=\"none\"/>\n",
       "    <path d=\"M18.56 5.44l.94 2.06.94-2.06 2.06-.94-2.06-.94-.94-2.06-.94 2.06-2.06.94zm-11 1L8.5 8.5l.94-2.06 2.06-.94-2.06-.94L8.5 2.5l-.94 2.06-2.06.94zm10 10l.94 2.06.94-2.06 2.06-.94-2.06-.94-.94-2.06-.94 2.06-2.06.94z\"/><path d=\"M17.41 7.96l-1.37-1.37c-.4-.4-.92-.59-1.43-.59-.52 0-1.04.2-1.43.59L10.3 9.45l-7.72 7.72c-.78.78-.78 2.05 0 2.83L4 21.41c.39.39.9.59 1.41.59.51 0 1.02-.2 1.41-.59l7.78-7.78 2.81-2.81c.8-.78.8-2.07 0-2.86zM5.41 20L4 18.59l7.72-7.72 1.47 1.35L5.41 20z\"/>\n",
       "  </svg>\n",
       "      </button>\n",
       "      \n",
       "  <style>\n",
       "    .colab-df-container {\n",
       "      display:flex;\n",
       "      flex-wrap:wrap;\n",
       "      gap: 12px;\n",
       "    }\n",
       "\n",
       "    .colab-df-convert {\n",
       "      background-color: #E8F0FE;\n",
       "      border: none;\n",
       "      border-radius: 50%;\n",
       "      cursor: pointer;\n",
       "      display: none;\n",
       "      fill: #1967D2;\n",
       "      height: 32px;\n",
       "      padding: 0 0 0 0;\n",
       "      width: 32px;\n",
       "    }\n",
       "\n",
       "    .colab-df-convert:hover {\n",
       "      background-color: #E2EBFA;\n",
       "      box-shadow: 0px 1px 2px rgba(60, 64, 67, 0.3), 0px 1px 3px 1px rgba(60, 64, 67, 0.15);\n",
       "      fill: #174EA6;\n",
       "    }\n",
       "\n",
       "    [theme=dark] .colab-df-convert {\n",
       "      background-color: #3B4455;\n",
       "      fill: #D2E3FC;\n",
       "    }\n",
       "\n",
       "    [theme=dark] .colab-df-convert:hover {\n",
       "      background-color: #434B5C;\n",
       "      box-shadow: 0px 1px 3px 1px rgba(0, 0, 0, 0.15);\n",
       "      filter: drop-shadow(0px 1px 2px rgba(0, 0, 0, 0.3));\n",
       "      fill: #FFFFFF;\n",
       "    }\n",
       "  </style>\n",
       "\n",
       "      <script>\n",
       "        const buttonEl =\n",
       "          document.querySelector('#df-316d3761-0d8d-40b4-965f-030867783313 button.colab-df-convert');\n",
       "        buttonEl.style.display =\n",
       "          google.colab.kernel.accessAllowed ? 'block' : 'none';\n",
       "\n",
       "        async function convertToInteractive(key) {\n",
       "          const element = document.querySelector('#df-316d3761-0d8d-40b4-965f-030867783313');\n",
       "          const dataTable =\n",
       "            await google.colab.kernel.invokeFunction('convertToInteractive',\n",
       "                                                     [key], {});\n",
       "          if (!dataTable) return;\n",
       "\n",
       "          const docLinkHtml = 'Like what you see? Visit the ' +\n",
       "            '<a target=\"_blank\" href=https://colab.research.google.com/notebooks/data_table.ipynb>data table notebook</a>'\n",
       "            + ' to learn more about interactive tables.';\n",
       "          element.innerHTML = '';\n",
       "          dataTable['output_type'] = 'display_data';\n",
       "          await google.colab.output.renderOutput(dataTable, element);\n",
       "          const docLink = document.createElement('div');\n",
       "          docLink.innerHTML = docLinkHtml;\n",
       "          element.appendChild(docLink);\n",
       "        }\n",
       "      </script>\n",
       "    </div>\n",
       "  </div>\n",
       "  "
      ],
      "text/plain": [
       "   userId  movieId  rating   timestamp\n",
       "0       1      110     1.0  1425941529"
      ]
     },
     "execution_count": 16,
     "metadata": {},
     "output_type": "execute_result"
    }
   ],
   "source": [
    "ratings.head(1)"
   ]
  },
  {
   "cell_type": "code",
   "execution_count": 17,
   "metadata": {
    "id": "Ai25XxLuRiKb"
   },
   "outputs": [],
   "source": [
    "def recommender_svd(watch_list, number_of_recommendation):\n",
    "  df1 = ratings\n",
    "  for i in range(len(watch_list)):\n",
    "    df1 = df1.append({'userId' : int(ratings.loc[999999,'userId'])+1, 'movieId' : int(movie_md.loc[movie_md['title'] == watch_list[i], 'id']), 'rating' : 5, 'timestamp' : 0},\n",
    "                ignore_index = True)\n",
    "\n",
    "  # Initialize a surprise reader object\n",
    "  reader = Reader(line_format='user item rating', sep=',', rating_scale=(0,5), skip_lines=1)\n",
    "  # Load the data\n",
    "  data = Dataset.load_from_df(ratings[['userId','movieId','rating']], reader=reader)\n",
    "  # Build trainset object(perform this only when you are using whole dataset to train)\n",
    "  trainset = data.build_full_trainset()\n",
    "  # Initialize model\n",
    "  svd = SVD()\n",
    "  # cross-validate\n",
    "  svd.fit(trainset)\n",
    "\n",
    "  recommendations = []\n",
    "  user_movie_interactions_matrix = df1.pivot(index='userId', columns='movieId', values='rating')\n",
    "\n",
    "  non_interacted_movies = user_movie_interactions_matrix.loc[int(ratings.loc[999999,'userId'])+1][user_movie_interactions_matrix.loc[int(ratings.loc[999999,'userId'])+1].isnull()].index.tolist()\n",
    "\n",
    "  for item_id in non_interacted_movies:\n",
    "    est = svd.predict(int(ratings.loc[999999,'userId'])+1, item_id).est\n",
    "    movie_name = movie_md[movie_md['id']==str(item_id)]['title'].values[0]\n",
    "    recommendations.append((movie_name, est))\n",
    "\n",
    "  recommendations.sort(key=lambda x: x[1], reverse=True)\n",
    "  return recommendations[:number_of_recommendation]"
   ]
  },
  {
   "cell_type": "code",
   "execution_count": 18,
   "metadata": {
    "colab": {
     "base_uri": "https://localhost:8080/"
    },
    "id": "94nYZ453Ros9",
    "outputId": "91e4f57a-c4d8-409b-d3db-258d2a589d6d"
   },
   "outputs": [
    {
     "name": "stderr",
     "output_type": "stream",
     "text": [
      "<ipython-input-17-2447881fefac>:4: FutureWarning: The frame.append method is deprecated and will be removed from pandas in a future version. Use pandas.concat instead.\n",
      "  df1 = df1.append({'userId' : int(ratings.loc[999999,'userId'])+1, 'movieId' : int(movie_md.loc[movie_md['title'] == watch_list[i], 'id']), 'rating' : 5, 'timestamp' : 0},\n",
      "<ipython-input-17-2447881fefac>:4: FutureWarning: The frame.append method is deprecated and will be removed from pandas in a future version. Use pandas.concat instead.\n",
      "  df1 = df1.append({'userId' : int(ratings.loc[999999,'userId'])+1, 'movieId' : int(movie_md.loc[movie_md['title'] == watch_list[i], 'id']), 'rating' : 5, 'timestamp' : 0},\n",
      "<ipython-input-17-2447881fefac>:4: FutureWarning: The frame.append method is deprecated and will be removed from pandas in a future version. Use pandas.concat instead.\n",
      "  df1 = df1.append({'userId' : int(ratings.loc[999999,'userId'])+1, 'movieId' : int(movie_md.loc[movie_md['title'] == watch_list[i], 'id']), 'rating' : 5, 'timestamp' : 0},\n",
      "<ipython-input-17-2447881fefac>:4: FutureWarning: The frame.append method is deprecated and will be removed from pandas in a future version. Use pandas.concat instead.\n",
      "  df1 = df1.append({'userId' : int(ratings.loc[999999,'userId'])+1, 'movieId' : int(movie_md.loc[movie_md['title'] == watch_list[i], 'id']), 'rating' : 5, 'timestamp' : 0},\n"
     ]
    },
    {
     "data": {
      "text/plain": [
       "[('Stalag 17', 4.345998671928623),\n",
       " ('Deep Impact', 4.261080692951831),\n",
       " ('Sleepless in Seattle', 4.258549707127334),\n",
       " (\"Everybody's Fine\", 4.24765044176829),\n",
       " ('Once Were Warriors', 4.219625339722452),\n",
       " ('License to Wed', 4.217947931342291),\n",
       " (\"On Her Majesty's Secret Service\", 4.190029329157614),\n",
       " ('Solaris', 4.179323738921387),\n",
       " ('Saw III', 4.156069738548317),\n",
       " ('Laura', 4.1528795719693905)]"
      ]
     },
     "execution_count": 18,
     "metadata": {},
     "output_type": "execute_result"
    }
   ],
   "source": [
    "watch = ['Toy Story', 'The Dark Knight', 'The Usual Suspects', 'Taxi Driver']\n",
    "recommender_svd(watch,10)"
   ]
  }
 ],
 "metadata": {
  "colab": {
   "provenance": []
  },
  "kernelspec": {
   "display_name": "Python 3 (ipykernel)",
   "language": "python",
   "name": "python3"
  },
  "language_info": {
   "codemirror_mode": {
    "name": "ipython",
    "version": 3
   },
   "file_extension": ".py",
   "mimetype": "text/x-python",
   "name": "python",
   "nbconvert_exporter": "python",
   "pygments_lexer": "ipython3",
   "version": "3.9.12"
  }
 },
 "nbformat": 4,
 "nbformat_minor": 1
}
