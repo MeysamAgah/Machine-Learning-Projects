{
 "cells": [
  {
   "cell_type": "markdown",
   "id": "0c2d67cd",
   "metadata": {},
   "source": [
    "# Linear Regression from scratch"
   ]
  },
  {
   "cell_type": "markdown",
   "id": "beeb366e",
   "metadata": {},
   "source": [
    "**Importing necessary things** :<br>\n",
    "At this step I add necessary tools to our notebook."
   ]
  },
  {
   "cell_type": "code",
   "execution_count": 1,
   "id": "fbd9ed90",
   "metadata": {},
   "outputs": [],
   "source": [
    "#for numerical and matrix things\n",
    "import numpy as np\n",
    "\n",
    "#for things like getting sum and mean\n",
    "import pandas as pd\n",
    "\n",
    "#for ploting figures\n",
    "%matplotlib inline\n",
    "import matplotlib.pyplot as plt\n",
    "\n",
    "#loading our dataset\n",
    "from sklearn.datasets import load_diabetes"
   ]
  },
  {
   "cell_type": "markdown",
   "id": "84d168b7",
   "metadata": {},
   "source": [
    "**Assigning X and Y** :<br>\n",
    "At this step I define X , Y for dataset to make a linear Regression implement."
   ]
  },
  {
   "cell_type": "code",
   "execution_count": 2,
   "id": "c10c52fb",
   "metadata": {},
   "outputs": [
    {
     "name": "stdout",
     "output_type": "stream",
     "text": [
      "(442, 10)\n",
      "(442,)\n"
     ]
    }
   ],
   "source": [
    "X_diabetes, y_diabetes = load_diabetes(return_X_y=True)\n",
    "\n",
    "#to make it easier for later\n",
    "X = X_diabetes\n",
    "Y= y_diabetes\n",
    "\n",
    "#let's take a look at our X, Y data dimension\n",
    "print(X.shape)\n",
    "print(Y.shape)"
   ]
  },
  {
   "cell_type": "markdown",
   "id": "79bee75f",
   "metadata": {},
   "source": [
    "**Spliting to train and test** :<br>\n",
    "At this step we split our data to training and test with ratio of 70% and 30% for each."
   ]
  },
  {
   "cell_type": "code",
   "execution_count": 3,
   "id": "5787c58e",
   "metadata": {},
   "outputs": [],
   "source": [
    "#in order to have a fix output around all runs\n",
    "np.random.seed(2042)\n",
    "\n",
    "#test ratio is 30%\n",
    "test_ratio = 0.3\n",
    "total_size = len(X)\n",
    "\n",
    "test_size = int(test_ratio * total_size)\n",
    "train_size = total_size - test_size\n",
    "\n",
    "#in order to have randon Train and Test\n",
    "rnd_indices = np.random.permutation(total_size)\n",
    "\n",
    "X_train = X[rnd_indices[:train_size]]\n",
    "X_test = X[rnd_indices[train_size:]]\n",
    "Y_train = Y[rnd_indices[:train_size]]\n",
    "Y_test = Y[rnd_indices[train_size:]]"
   ]
  },
  {
   "cell_type": "markdown",
   "id": "208de63f",
   "metadata": {},
   "source": [
    "**Model Implementation** :<br>\n",
    "At this step I define a class named **LinearRegression** in order to implement linear regression"
   ]
  },
  {
   "cell_type": "code",
   "execution_count": 4,
   "id": "c334d1c5",
   "metadata": {},
   "outputs": [],
   "source": [
    "class LinearRegression():\n",
    "\n",
    "    \"\"\"\n",
    "        Linear Regression model with mean squared error as cost function\n",
    "\n",
    "        Parameters\n",
    "        ----------\n",
    "\n",
    "        learning_rate : float\n",
    "                        learning rate of gradient descent algorithm\n",
    "        n_iter : int\n",
    "                number of iterations or epoch of gradient descent algorithm\n",
    "        Attributes\n",
    "        ----------\n",
    "        lr : float\n",
    "            learning rate of gradient descent algorithm\n",
    "        n_iter : int\n",
    "                number of iterations or epoch of gradient descent algorithm\n",
    "        weights : numpy.array\n",
    "                weights of our model are initialized with random numbers in [0,1]  \n",
    "        bias : float\n",
    "            bias of our model which is initialized with 0\n",
    "\n",
    "\n",
    "        Methods\n",
    "        -------\n",
    "        fit(X,y)\n",
    "            training the weights with regards to dataset (X and y)\n",
    "        predict(X)\n",
    "                predict target values corresponding to X\n",
    "        _compute_gradient(X,y_true,y_predicted)\n",
    "                        computing gradients of mse cost function\n",
    "\n",
    "    \"\"\"\n",
    "\n",
    "    def __init__(self,learning_rate = 0.01,n_iter=250000):\n",
    "        self.lr = learning_rate\n",
    "        self.n_iter = n_iter\n",
    "        self.weights = None\n",
    "        self.bias = None\n",
    "    # computing gradients of mse cost function\n",
    "    def _compute_gradient(self,X,y_true,y_predicted):\n",
    "        n = X.shape[0]\n",
    "        dw = (1/n) * np.dot(X.T,(y_predicted-y_true))\n",
    "        db = (1/n) * np.sum(y_predicted-y_true)\n",
    "        return dw , db\n",
    "\n",
    "    def predict(self,X):\n",
    "        return np.dot(X,self.weights) + self.bias\n",
    "\n",
    "    def fit(self,X,y):\n",
    "        # initializing weights and bias\n",
    "        self.weights = np.random.rand(X.shape[1])\n",
    "        \n",
    "        \n",
    "        self.bias = 0 \n",
    "\n",
    "        for _ in range(self.n_iter):\n",
    "\n",
    "            y_predicted = self.predict(X)\n",
    "\n",
    "            dw , db = self._compute_gradient(X,y,y_predicted)\n",
    "            \n",
    "            # updating weights and bias\n",
    "            self.weights -= self.lr * dw\n",
    "            self.bias -= self.lr * db"
   ]
  },
  {
   "cell_type": "markdown",
   "id": "f28cf694",
   "metadata": {},
   "source": [
    "**defining model**"
   ]
  },
  {
   "cell_type": "code",
   "execution_count": 5,
   "id": "4e7dc1a8",
   "metadata": {},
   "outputs": [],
   "source": [
    "model = LinearRegression()\n",
    "\n",
    "#remove single-dimensional entries from the shape of an array\n",
    "Y_train = Y_train.squeeze()\n",
    "\n",
    "model.fit(X_train, Y_train)"
   ]
  },
  {
   "cell_type": "code",
   "execution_count": 6,
   "id": "9c1c40ed",
   "metadata": {},
   "outputs": [
    {
     "name": "stdout",
     "output_type": "stream",
     "text": [
      "Model Weights Are : [  23.66764336 -174.46069598  606.19975669  289.94315985  -45.32525116\n",
      " -102.95497087 -184.84012308   93.17251518  377.92006567   85.03677887]\n",
      "Model bias is : 153.8098122945581\n"
     ]
    }
   ],
   "source": [
    "#Let's take a look at our weights and bias\n",
    "print(\"Model Weights Are : {}\".format(model.weights))\n",
    "print(\"Model bias is : {}\".format(model.bias))"
   ]
  },
  {
   "cell_type": "code",
   "execution_count": 7,
   "id": "eac75fb4",
   "metadata": {},
   "outputs": [],
   "source": [
    "#Predicting Y according to X_test and Assumed weights and bias\n",
    "Y_predict = X_test.dot(model.weights) + model.bias"
   ]
  },
  {
   "cell_type": "markdown",
   "id": "863469b9",
   "metadata": {},
   "source": [
    "**Checking Accuracy** :<br>\n",
    "calculating RSS according to this equation :<br>\n",
    "$RSS = \\Sigma(Y^{2} - \\hat{Y}^{2})$"
   ]
  },
  {
   "cell_type": "code",
   "execution_count": 8,
   "id": "262d5e3f",
   "metadata": {},
   "outputs": [
    {
     "data": {
      "text/plain": [
       "225331.3387715741"
      ]
     },
     "execution_count": 8,
     "metadata": {},
     "output_type": "execute_result"
    }
   ],
   "source": [
    "RSSs = Y_test**2 - Y_predict**2\n",
    "RSS = RSSs.sum()\n",
    "RSS"
   ]
  },
  {
   "cell_type": "code",
   "execution_count": 9,
   "id": "a5f886ff",
   "metadata": {},
   "outputs": [
    {
     "data": {
      "text/plain": [
       "443961.19553244184"
      ]
     },
     "execution_count": 9,
     "metadata": {},
     "output_type": "execute_result"
    }
   ],
   "source": [
    "#Calculating TSS which is Variance of Y\n",
    "TSSs = Y_test**2. - Y.mean()**2\n",
    "TSS = TSSs.sum()\n",
    "TSS"
   ]
  },
  {
   "cell_type": "markdown",
   "id": "61c3f7c7",
   "metadata": {},
   "source": [
    "Calculating $R^{2}$ according to this equation : <br>\n",
    "<br>\n",
    "$R^{2} = \\frac{(TSS - RSS)}{TSS}$"
   ]
  },
  {
   "cell_type": "code",
   "execution_count": 10,
   "id": "7b8ce5db",
   "metadata": {},
   "outputs": [
    {
     "data": {
      "text/plain": [
       "0.4924526264027768"
      ]
     },
     "execution_count": 10,
     "metadata": {},
     "output_type": "execute_result"
    }
   ],
   "source": [
    "R_Squared = (TSS - RSS)/TSS\n",
    "R_Squared"
   ]
  },
  {
   "cell_type": "markdown",
   "id": "d56d16a0",
   "metadata": {},
   "source": [
    "# *****"
   ]
  },
  {
   "cell_type": "markdown",
   "id": "7ef9d238",
   "metadata": {},
   "source": [
    "# Linear Regression with SKlearn"
   ]
  },
  {
   "cell_type": "code",
   "execution_count": 11,
   "id": "5ef236cd",
   "metadata": {},
   "outputs": [
    {
     "data": {
      "text/plain": [
       "LinearRegression()"
      ]
     },
     "execution_count": 11,
     "metadata": {},
     "output_type": "execute_result"
    }
   ],
   "source": [
    "#Adding necessary tools and defining model\n",
    "from sklearn import linear_model\n",
    "model = linear_model.LinearRegression()\n",
    "model.fit(X_train,Y_train)"
   ]
  },
  {
   "cell_type": "code",
   "execution_count": 12,
   "id": "59268e0c",
   "metadata": {},
   "outputs": [
    {
     "data": {
      "text/plain": [
       "array([  19.70314614, -175.49893906,  610.67778789,  287.51155318,\n",
       "       -385.48553379,  179.0466207 ,  -47.59277311,  107.81873576,\n",
       "        516.48046603,   74.46240035])"
      ]
     },
     "execution_count": 12,
     "metadata": {},
     "output_type": "execute_result"
    }
   ],
   "source": [
    "#Let's take a look at weights and bias\n",
    "model.coef_"
   ]
  },
  {
   "cell_type": "code",
   "execution_count": 13,
   "id": "4f2414a4",
   "metadata": {},
   "outputs": [
    {
     "data": {
      "text/plain": [
       "153.8029728645442"
      ]
     },
     "execution_count": 13,
     "metadata": {},
     "output_type": "execute_result"
    }
   ],
   "source": [
    "model.intercept_"
   ]
  },
  {
   "cell_type": "code",
   "execution_count": 14,
   "id": "d78cfe73",
   "metadata": {},
   "outputs": [],
   "source": [
    "#Predicting Y according to X_test\n",
    "Y_predict_SKlearn = model.predict(X_test)"
   ]
  },
  {
   "cell_type": "markdown",
   "id": "34643ecb",
   "metadata": {},
   "source": [
    "calculating RSS according to this equation :<br>\n",
    "$RSS = \\Sigma(Y^{2} - \\hat{Y}^{2})$"
   ]
  },
  {
   "cell_type": "code",
   "execution_count": 15,
   "id": "e349c9db",
   "metadata": {},
   "outputs": [
    {
     "data": {
      "text/plain": [
       "225732.16849902825"
      ]
     },
     "execution_count": 15,
     "metadata": {},
     "output_type": "execute_result"
    }
   ],
   "source": [
    "RSSs = Y_test**2 - Y_predict_SKlearn**2\n",
    "RSS = RSSs.sum()\n",
    "RSS"
   ]
  },
  {
   "cell_type": "code",
   "execution_count": 16,
   "id": "48a23969",
   "metadata": {},
   "outputs": [
    {
     "data": {
      "text/plain": [
       "443961.19553244184"
      ]
     },
     "execution_count": 16,
     "metadata": {},
     "output_type": "execute_result"
    }
   ],
   "source": [
    "#Calculating TSS which is Variance of Y\n",
    "TSSs = Y_test**2. - Y.mean()**2\n",
    "TSS = TSSs.sum()\n",
    "TSS"
   ]
  },
  {
   "cell_type": "markdown",
   "id": "328706e9",
   "metadata": {},
   "source": [
    "Calculating $R^{2}$ according to this equation : <br>\n",
    "<br>\n",
    "$R^{2} = \\frac{(TSS - RSS)}{TSS}$"
   ]
  },
  {
   "cell_type": "code",
   "execution_count": 17,
   "id": "37e426a9",
   "metadata": {},
   "outputs": [
    {
     "data": {
      "text/plain": [
       "0.4915497778396869"
      ]
     },
     "execution_count": 17,
     "metadata": {},
     "output_type": "execute_result"
    }
   ],
   "source": [
    "R_Squared = (TSS - RSS)/TSS\n",
    "R_Squared"
   ]
  }
 ],
 "metadata": {
  "kernelspec": {
   "display_name": "Python 3 (ipykernel)",
   "language": "python",
   "name": "python3"
  },
  "language_info": {
   "codemirror_mode": {
    "name": "ipython",
    "version": 3
   },
   "file_extension": ".py",
   "mimetype": "text/x-python",
   "name": "python",
   "nbconvert_exporter": "python",
   "pygments_lexer": "ipython3",
   "version": "3.9.12"
  }
 },
 "nbformat": 4,
 "nbformat_minor": 5
}
